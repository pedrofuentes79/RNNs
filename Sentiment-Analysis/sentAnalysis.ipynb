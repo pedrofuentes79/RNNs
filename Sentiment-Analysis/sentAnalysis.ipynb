{
 "cells": [
  {
   "cell_type": "markdown",
   "metadata": {},
   "source": [
    "# General Idea for the project\n",
    "\n",
    "The project is aimed to solve the following problem: given a review (or any piece of text), classify it as positive or negative. Since it was mostly trained using amazon product reviews, it was tested on those same types of text: product reviews.  \n",
    "\n",
    "This problem is solved using a <b>RNN</b> (Recursive Neural Network), which is a type of neural network that is able to take into account the previous information that it was given. In this particular problem, sentiment analysis, it is important to take into account the previous words in order to understand the context of the sentence. For example, the sentence \"I love this product\" is positive, but \"I don't love this product\" is negative."
   ]
  },
  {
   "cell_type": "markdown",
   "metadata": {},
   "source": [
    "# Imports and dataset"
   ]
  },
  {
   "cell_type": "code",
   "execution_count": 1,
   "metadata": {},
   "outputs": [
    {
     "name": "stderr",
     "output_type": "stream",
     "text": [
      "2023-07-30 19:21:09.050456: I tensorflow/core/platform/cpu_feature_guard.cc:182] This TensorFlow binary is optimized to use available CPU instructions in performance-critical operations.\n",
      "To enable the following instructions: AVX2 FMA, in other operations, rebuild TensorFlow with the appropriate compiler flags.\n",
      "2023-07-30 19:21:09.779993: W tensorflow/compiler/tf2tensorrt/utils/py_utils.cc:38] TF-TRT Warning: Could not find TensorRT\n"
     ]
    }
   ],
   "source": [
    "import pandas as pd\n",
    "import numpy as np\n",
    "import matplotlib.pyplot as plt\n",
    "import nltk\n",
    "import tensorflow as tf\n",
    "from keras.preprocessing.sequence import pad_sequences\n",
    "from tensorflow.keras.layers import Dense, Dropout, LSTM, Masking\n",
    "from tensorflow.keras.models import Sequential\n",
    "from tensorflow.keras.callbacks import EarlyStopping\n",
    "from tensorflow.keras.optimizers import Adam\n",
    "from sklearn.metrics import confusion_matrix, accuracy_score, classification_report\n",
    "from sklearn.model_selection import train_test_split\n",
    "from sklearn.utils.class_weight import compute_class_weight\n",
    "from gensim.models import KeyedVectors, Word2Vec\n",
    "from nltk.tokenize import word_tokenize"
   ]
  },
  {
   "cell_type": "code",
   "execution_count": null,
   "metadata": {},
   "outputs": [],
   "source": [
    "# Global variables\n",
    "sample_size = 30000\n",
    "\n",
    "tf.random.set_seed(42)\n",
    "np.random.seed(42)"
   ]
  },
  {
   "cell_type": "code",
   "execution_count": 2,
   "metadata": {},
   "outputs": [
    {
     "name": "stderr",
     "output_type": "stream",
     "text": [
      "[nltk_data] Downloading package stopwords to\n",
      "[nltk_data]     /home/pedranji/nltk_data...\n",
      "[nltk_data]   Package stopwords is already up-to-date!\n",
      "[nltk_data] Downloading package punkt to /home/pedranji/nltk_data...\n",
      "[nltk_data]   Package punkt is already up-to-date!\n"
     ]
    },
    {
     "data": {
      "text/plain": [
       "True"
      ]
     },
     "execution_count": 2,
     "metadata": {},
     "output_type": "execute_result"
    }
   ],
   "source": [
    "nltk.download('stopwords')\n",
    "nltk.download('punkt')"
   ]
  },
  {
   "cell_type": "code",
   "execution_count": 3,
   "metadata": {},
   "outputs": [],
   "source": [
    "df = pd.read_csv('/home/pedranji/Projects/RNNs/Datasets/amazonreviews.csv')"
   ]
  },
  {
   "cell_type": "markdown",
   "metadata": {},
   "source": [
    "# Data visualization\n",
    "I want to see the distribution of the scores of the reviews to see if my dataset is imbalanced."
   ]
  },
  {
   "cell_type": "code",
   "execution_count": 4,
   "metadata": {},
   "outputs": [
    {
     "data": {
      "image/png": "[encoded data removed]",
      "text/plain": [
       "<Figure size 640x480 with 1 Axes>"
      ]
     },
     "metadata": {},
     "output_type": "display_data"
    }
   ],
   "source": [
    "plt.hist(df[\"Score\"])\n",
    "plt.show()"
   ]
  },
  {
   "cell_type": "markdown",
   "metadata": {},
   "source": [
    "In view of the distribution of the dataset, I will downsample the dataset to make it a bit more balanced.   \n",
    "\n",
    "I will reduce the amount of 5-star reviews to 80% of the original amount."
   ]
  },
  {
   "cell_type": "code",
   "execution_count": 5,
   "metadata": {},
   "outputs": [],
   "source": [
    "# Find the count of 5-star ratings\n",
    "count_5_stars = df['Score'].value_counts()[5]\n",
    "\n",
    "# Calculate the number of 5-star ratings to be downsampled (20% reduction)\n",
    "downsample_count = int(count_5_stars * 0.2)\n",
    "\n",
    "# Downsample 5-star ratings by downsampling only the 5-stars and concatenating the other ratings.\n",
    "df_downsampled = pd.concat([\n",
    "    df[df['Score'] == 5].sample(n=count_5_stars - downsample_count, random_state=42),\n",
    "    df[df['Score'] != 5]\n",
    "])\n",
    "\n",
    "# Reduce the DataFrame to the relevant columns\n",
    "df_downsampled = df_downsampled[['Text', 'Score']]\n",
    "\n",
    "# Remove duplicate rows\n",
    "df_downsampled = df_downsampled.drop_duplicates()\n",
    "\n",
    "# Remove missing values in score and text\n",
    "df_downsampled = df_downsampled.dropna(subset=['Score', 'Text'])\n",
    "\n",
    "# Reduce dataframe in size to 30,000 rows for faster processing\n",
    "df_downsampled = df_downsampled.sample(n=30000, random_state=42)"
   ]
  },
  {
   "cell_type": "code",
   "execution_count": 6,
   "metadata": {},
   "outputs": [
    {
     "data": {
      "image/png": "[encoded data removed]",
      "text/plain": [
       "<Figure size 640x480 with 1 Axes>"
      ]
     },
     "metadata": {},
     "output_type": "display_data"
    }
   ],
   "source": [
    "plt.hist(df_downsampled[\"Score\"])\n",
    "plt.show()"
   ]
  },
  {
   "cell_type": "markdown",
   "metadata": {},
   "source": [
    "The imbalance is still there, but a little bit better. However, we will settle for this, since production data would likely have a similar distribution."
   ]
  },
  {
   "cell_type": "markdown",
   "metadata": {},
   "source": [
    "# Data preprocessing"
   ]
  },
  {
   "cell_type": "markdown",
   "metadata": {},
   "source": [
    "Overall steps to follow:\n",
    "- Remove URLS and email addresses\n",
    "- Remove punctuation\n",
    "- Lowercase all words\n",
    "- Remove stopwords\n",
    "- Lemmatize words\n",
    "- Transform text to to numeric vectors"
   ]
  },
  {
   "cell_type": "code",
   "execution_count": 7,
   "metadata": {},
   "outputs": [],
   "source": [
    "# Remove URLS and email addresses\n",
    "df_downsampled['Text'] = df_downsampled['Text'].str.replace(r'http\\S+|www.\\S+|(\\@\\w+)', '', case=False, regex=True)\n",
    "\n",
    "# Remove punctuation signs\n",
    "df_downsampled['Text'] = df_downsampled['Text'].str.replace(r'[^\\w\\s]', '', regex=True)\n",
    "\n",
    "# Remove numbers\n",
    "df_downsampled['Text'] = df_downsampled['Text'].str.replace(r'\\d+', '', regex=True)\n",
    "\n",
    "# Remove <br /> tags\n",
    "df_downsampled['Text'] = df_downsampled['Text'].str.replace('<br />', '')\n",
    "\n",
    "df_downsampled['Text'] = df_downsampled['Text'].str.replace(\" br \", '')\n",
    "\n",
    "# Lowercase the text\n",
    "df_downsampled['Text'] = df_downsampled['Text'].str.lower()\n"
   ]
  },
  {
   "cell_type": "code",
   "execution_count": 8,
   "metadata": {},
   "outputs": [
    {
     "data": {
      "text/html": [
       "<div>\n",
       "<style scoped>\n",
       "    .dataframe tbody tr th:only-of-type {\n",
       "        vertical-align: middle;\n",
       "    }\n",
       "\n",
       "    .dataframe tbody tr th {\n",
       "        vertical-align: top;\n",
       "    }\n",
       "\n",
       "    .dataframe thead th {\n",
       "        text-align: right;\n",
       "    }\n",
       "</style>\n",
       "<table border=\"1\" class=\"dataframe\">\n",
       "  <thead>\n",
       "    <tr style=\"text-align: right;\">\n",
       "      <th></th>\n",
       "      <th>Text</th>\n",
       "      <th>Score</th>\n",
       "    </tr>\n",
       "  </thead>\n",
       "  <tbody>\n",
       "    <tr>\n",
       "      <th>326531</th>\n",
       "      <td>i have tried several brands of coffee for the ...</td>\n",
       "      <td>5</td>\n",
       "    </tr>\n",
       "    <tr>\n",
       "      <th>281964</th>\n",
       "      <td>i saw this at the local walmart and decided to...</td>\n",
       "      <td>5</td>\n",
       "    </tr>\n",
       "    <tr>\n",
       "      <th>518555</th>\n",
       "      <td>i have these things all over the house and thi...</td>\n",
       "      <td>4</td>\n",
       "    </tr>\n",
       "    <tr>\n",
       "      <th>296586</th>\n",
       "      <td>if you miss eating bread and are a low carb ea...</td>\n",
       "      <td>5</td>\n",
       "    </tr>\n",
       "    <tr>\n",
       "      <th>227076</th>\n",
       "      <td>i really wanted to buy these but for some unhe...</td>\n",
       "      <td>1</td>\n",
       "    </tr>\n",
       "  </tbody>\n",
       "</table>\n",
       "</div>"
      ],
      "text/plain": [
       "                                                     Text  Score\n",
       "326531  i have tried several brands of coffee for the ...      5\n",
       "281964  i saw this at the local walmart and decided to...      5\n",
       "518555  i have these things all over the house and thi...      4\n",
       "296586  if you miss eating bread and are a low carb ea...      5\n",
       "227076  i really wanted to buy these but for some unhe...      1"
      ]
     },
     "execution_count": 8,
     "metadata": {},
     "output_type": "execute_result"
    }
   ],
   "source": [
    "df_downsampled.head()"
   ]
  },
  {
   "cell_type": "markdown",
   "metadata": {},
   "source": [
    "### Stopwords and Lemmatizing\n",
    "\n",
    "Removing the stopwords means taking away the most common words in the english language, those that are not very significant when trying to analyze the sentiment in a sentence.\n",
    "\n",
    "Lemmatizing means reducing each word to its \"lemma\", or the root of the word. For example, the lemma of \"running\" is \"run\". This is useful because it reduces the number of words that the model has to learn, and it also helps to group together words that have the same meaning."
   ]
  },
  {
   "cell_type": "code",
   "execution_count": 9,
   "metadata": {},
   "outputs": [],
   "source": [
    "# Remove stopwords\n",
    "stop = nltk.corpus.stopwords.words('english')\n",
    "lemmatized_text = df_downsampled['Text'].apply(lambda x: ' '.join([word for word in x.split() if word not in (stop)]))\n",
    "\n",
    "# Lemmatizing\n",
    "lemmatizer = nltk.stem.WordNetLemmatizer()\n",
    "lemmatized_text = lemmatized_text.apply(lambda x: ' '.join([lemmatizer.lemmatize(word) for word in x.split()]))"
   ]
  },
  {
   "cell_type": "markdown",
   "metadata": {},
   "source": [
    "For comparison, we can take a look at an example of a review before and after preprocessing."
   ]
  },
  {
   "cell_type": "code",
   "execution_count": 10,
   "metadata": {},
   "outputs": [
    {
     "name": "stdout",
     "output_type": "stream",
     "text": [
      "Raw review: \n",
      " i have tried several brands of coffee for the keurig and this has excellent flavor and aroma  although i would prefer a bolder taste for decaf this more than passed the test\n",
      "Preprocessed review: \n",
      " tried several brand coffee keurig excellent flavor aroma although would prefer bolder taste decaf passed test\n"
     ]
    }
   ],
   "source": [
    "review = df_downsampled[\"Text\"][326531]\n",
    "review_preprocessed = lemmatized_text[326531]\n",
    "print(\"Raw review: \\n\", review)\n",
    "print(\"Preprocessed review: \\n\", review_preprocessed)\n"
   ]
  },
  {
   "cell_type": "markdown",
   "metadata": {},
   "source": [
    "This shows that it is worth it to remove the stop words and lemmatizing, as it reduces the number of features by a lot and the information loss is not significant."
   ]
  },
  {
   "cell_type": "markdown",
   "metadata": {},
   "source": [
    "### Scores (target variable)\n"
   ]
  },
  {
   "cell_type": "code",
   "execution_count": 11,
   "metadata": {},
   "outputs": [],
   "source": [
    "# Map scores to 0 and 1\n",
    "# I have Decided to map 1,2,3 to 0 and 4,5 to 1\n",
    "# So, now we have a binary classification problem; 0 for negative sentiment and 1 for positive\n",
    "y = df_downsampled[\"Score\"].map({1:0, 2:0, 3:0, 4:1, 5:1})\n",
    "\n",
    "y = y.values.astype(\"float32\")"
   ]
  },
  {
   "cell_type": "markdown",
   "metadata": {},
   "source": [
    "### Tokenize the text\n",
    "\n",
    "Tokenizing the text is basically splitting the text into words. We will use the NLTK library to tokenize the text."
   ]
  },
  {
   "cell_type": "code",
   "execution_count": 12,
   "metadata": {},
   "outputs": [],
   "source": [
    "tokenized_text = [word_tokenize(i) for i in lemmatized_text]"
   ]
  },
  {
   "cell_type": "markdown",
   "metadata": {},
   "source": [
    "### Word embeddings\n"
   ]
  },
  {
   "cell_type": "markdown",
   "metadata": {},
   "source": [
    "Here, we load a previously trained model on this particular dataset. However, there are many alternatives for different models, as well as pretrained models that can be downloaded from the internet. For example, the [Stanford NLP group](https://nlp.stanford.edu/projects/glove/) has a set of pretrained models that can be used for sentiment analysis."
   ]
  },
  {
   "cell_type": "code",
   "execution_count": 13,
   "metadata": {},
   "outputs": [],
   "source": [
    "# This model was previously trained with this same dataset.\n",
    "# The model was saved in a binary file with model.save()\n",
    "\n",
    "vector_size = 128\n",
    "\n",
    "#when using the model with 30k, train it again and save it in word2vec format so that they are the same\n",
    "#model = KeyedVectors.load('model2-10k-reviews.bin')\n",
    "model = KeyedVectors.load('model2-30k-reviews.bin')"
   ]
  },
  {
   "cell_type": "code",
   "execution_count": 14,
   "metadata": {},
   "outputs": [],
   "source": [
    "# Assigns each word in every sentence of every sequence a vector of the model.\n",
    "\n",
    "def create_sequences(tokenized_text, model, vector_size):\n",
    "    sequences = []\n",
    "    for seq in tokenized_text:\n",
    "        seq_vectors = []\n",
    "        for token in seq:\n",
    "            if token in model.wv:\n",
    "                seq_vectors.append(model.wv[token])\n",
    "            else:\n",
    "                seq_vectors.append(np.zeros((vector_size,)))\n",
    "        sequences.append(seq_vectors)\n",
    "\n",
    "    return sequences\n",
    "\n",
    "sequences = create_sequences(tokenized_text, model, vector_size)"
   ]
  },
  {
   "cell_type": "code",
   "execution_count": 15,
   "metadata": {},
   "outputs": [
    {
     "data": {
      "image/png": "[encoded data removed]",
      "text/plain": [
       "<Figure size 1000x500 with 1 Axes>"
      ]
     },
     "metadata": {},
     "output_type": "display_data"
    }
   ],
   "source": [
    "# Distribution of the length of the sequences\n",
    "plt.figure(figsize=(10, 5))\n",
    "plt.hist([len(s) for s in sequences], bins=50)\n",
    "plt.xlabel('Length of a sequence')\n",
    "plt.ylabel('Number of sequences')\n",
    "plt.title('Distribution of the length of the sequences')\n",
    "plt.show()\n"
   ]
  },
  {
   "cell_type": "markdown",
   "metadata": {},
   "source": [
    "### Padding the sequences\n"
   ]
  },
  {
   "cell_type": "markdown",
   "metadata": {},
   "source": [
    "This step is crucial, due to the fact that LSTMs cannot handle inhomogenous data, meaning that each sequence must be of the same length. The scikit learn pad_sequences function allows us to do this. We will pad the sequences with zeros, meaning that the sequences will be added the necessary zeros at the end. We will also need to define the maximum length of the sequences, which we will set to 80 in this case, by looking at the previous graph. This means that sequences with length less than 80 will be padded with zeros, and sequences with length greater than 80 will be truncated to 80."
   ]
  },
  {
   "cell_type": "code",
   "execution_count": 16,
   "metadata": {},
   "outputs": [],
   "source": [
    "sequences_padded = pad_sequences(sequences, maxlen=80, padding='post', truncating='post', dtype='float32')"
   ]
  },
  {
   "cell_type": "code",
   "execution_count": null,
   "metadata": {},
   "outputs": [
    {
     "name": "stdout",
     "output_type": "stream",
     "text": [
      "Number of sequences with more than 80 tokens:  3012\n"
     ]
    }
   ],
   "source": [
    "# How many sequences have more than 80 tokens?\n",
    "print(\"Number of sequences with more than 80 tokens: \", len([x for x in sequences if len(x) > 80]))"
   ]
  },
  {
   "cell_type": "markdown",
   "metadata": {},
   "source": [
    "# Data split"
   ]
  },
  {
   "cell_type": "code",
   "execution_count": 25,
   "metadata": {},
   "outputs": [],
   "source": [
    "# Data split\n",
    "X_train, X_test, y_train, y_test = train_test_split(sequences_padded, y, test_size=0.2, random_state=42)\n",
    "X_val, X_test, y_val, y_test = train_test_split(X_test, y_test, test_size=0.5, random_state=42)"
   ]
  },
  {
   "cell_type": "code",
   "execution_count": 26,
   "metadata": {},
   "outputs": [
    {
     "name": "stdout",
     "output_type": "stream",
     "text": [
      "X_train shape:  (24000, 80, 128)\n",
      "X_val shape:  (3000, 80, 128)\n",
      "X_test shape:  (3000, 80, 128)\n",
      "y_train shape:  (24000,)\n",
      "y_val shape:  (3000,)\n",
      "y_test shape:  (3000,)\n"
     ]
    }
   ],
   "source": [
    "# Print shapes to check\n",
    "print(\"X_train shape: \", X_train.shape)\n",
    "print(\"X_val shape: \", X_val.shape)\n",
    "print(\"X_test shape: \", X_test.shape)\n",
    "print(\"y_train shape: \", y_train.shape)\n",
    "print(\"y_val shape: \", y_val.shape)\n",
    "print(\"y_test shape: \", y_test.shape)\n",
    "\n"
   ]
  },
  {
   "cell_type": "code",
   "execution_count": 20,
   "metadata": {},
   "outputs": [
    {
     "data": {
      "image/png": "[encoded data removed]",
      "text/plain": [
       "<Figure size 1000x500 with 1 Axes>"
      ]
     },
     "metadata": {},
     "output_type": "display_data"
    }
   ],
   "source": [
    "# Analyze distribution of sentiment scores training dataset\n",
    "plt.figure(figsize=(10, 5))\n",
    "plt.hist(y_train, bins=3, color='blue', edgecolor='black', linewidth=1.2)\n",
    "plt.title('Distribution of Sentiment Scores for Training Data')\n",
    "plt.xlabel('Sentiment Score')\n",
    "plt.ylabel('Number of Reviews')\n",
    "plt.show()"
   ]
  },
  {
   "cell_type": "code",
   "execution_count": null,
   "metadata": {},
   "outputs": [
    {
     "name": "stdout",
     "output_type": "stream",
     "text": [
      "(array([0., 1.], dtype=float32), array([ 5997, 18003]))\n"
     ]
    }
   ],
   "source": [
    "# Amount of 0s and amount of 1s in the y_train array\n",
    "print(np.unique(y_train, return_counts=True))\n"
   ]
  },
  {
   "cell_type": "markdown",
   "metadata": {},
   "source": [
    "So, there are around 6k negative reviews and 18k positive reviews in the training set. The proportion of negative reviews is about 1/4 in the training dataset."
   ]
  },
  {
   "cell_type": "markdown",
   "metadata": {},
   "source": [
    "# Model"
   ]
  },
  {
   "cell_type": "markdown",
   "metadata": {},
   "source": [
    "Here, I am using LSTM layers, but I also could have used GRU layers (Gated Recurrent Units).   \n",
    "For regularization, I am using dropout layers with 0.5 as the dropout rate.  \n",
    "Since this is a binary classification problem, I am using a sigmoid activation function in the output layer, as well as a binary_crossentropy loss function."
   ]
  },
  {
   "cell_type": "code",
   "execution_count": 28,
   "metadata": {},
   "outputs": [],
   "source": [
    "rnn = Sequential()\n",
    "rnn.add(LSTM(64, input_shape=(X_train.shape[1], X_train.shape[2]), return_sequences=True))\n",
    "rnn.add(Dropout(0.5))\n",
    "rnn.add(LSTM(64, return_sequences=False))\n",
    "rnn.add(Dropout(0.5))\n",
    "rnn.add(Dense(1, activation='sigmoid'))\n",
    "\n",
    "rnn.compile(loss='binary_crossentropy', optimizer='adam', metrics=['accuracy'])\n"
   ]
  },
  {
   "cell_type": "code",
   "execution_count": 29,
   "metadata": {},
   "outputs": [
    {
     "name": "stdout",
     "output_type": "stream",
     "text": [
      "Epoch 1/20\n"
     ]
    },
    {
     "name": "stderr",
     "output_type": "stream",
     "text": [
      "2023-07-30 19:28:10.122473: W tensorflow/tsl/framework/cpu_allocator_impl.cc:83] Allocation of 983040000 exceeds 10% of free system memory.\n"
     ]
    },
    {
     "name": "stdout",
     "output_type": "stream",
     "text": [
      "750/750 [==============================] - 45s 57ms/step - loss: 0.5319 - accuracy: 0.7537 - val_loss: 0.5213 - val_accuracy: 0.7567\n",
      "Epoch 2/20\n",
      "750/750 [==============================] - 42s 56ms/step - loss: 0.5187 - accuracy: 0.7499 - val_loss: 0.4897 - val_accuracy: 0.7583\n",
      "Epoch 3/20\n",
      "750/750 [==============================] - 42s 56ms/step - loss: 0.5493 - accuracy: 0.7521 - val_loss: 0.5583 - val_accuracy: 0.7567\n",
      "Epoch 4/20\n",
      "750/750 [==============================] - 42s 56ms/step - loss: 0.5088 - accuracy: 0.7629 - val_loss: 0.4188 - val_accuracy: 0.8050\n",
      "Epoch 5/20\n",
      "750/750 [==============================] - 41s 54ms/step - loss: 0.4328 - accuracy: 0.7985 - val_loss: 0.3870 - val_accuracy: 0.8200\n",
      "Epoch 6/20\n",
      "750/750 [==============================] - 41s 55ms/step - loss: 0.4066 - accuracy: 0.8148 - val_loss: 0.3773 - val_accuracy: 0.8327\n",
      "Epoch 7/20\n",
      "750/750 [==============================] - 42s 56ms/step - loss: 0.3875 - accuracy: 0.8254 - val_loss: 0.3700 - val_accuracy: 0.8403\n",
      "Epoch 8/20\n",
      "750/750 [==============================] - 41s 55ms/step - loss: 0.3784 - accuracy: 0.8293 - val_loss: 0.3567 - val_accuracy: 0.8457\n",
      "Epoch 9/20\n",
      "750/750 [==============================] - 43s 57ms/step - loss: 0.3795 - accuracy: 0.8271 - val_loss: 0.3640 - val_accuracy: 0.8383\n",
      "Epoch 10/20\n",
      "750/750 [==============================] - 41s 55ms/step - loss: 0.3576 - accuracy: 0.8400 - val_loss: 0.3577 - val_accuracy: 0.8393\n",
      "Epoch 11/20\n",
      "750/750 [==============================] - 42s 56ms/step - loss: 0.3451 - accuracy: 0.8461 - val_loss: 0.3495 - val_accuracy: 0.8457\n",
      "Epoch 12/20\n",
      "750/750 [==============================] - 42s 56ms/step - loss: 0.3340 - accuracy: 0.8519 - val_loss: 0.3395 - val_accuracy: 0.8500\n",
      "Epoch 13/20\n",
      "750/750 [==============================] - 42s 56ms/step - loss: 0.3280 - accuracy: 0.8554 - val_loss: 0.3337 - val_accuracy: 0.8563\n",
      "Epoch 14/20\n",
      "750/750 [==============================] - 42s 56ms/step - loss: 0.3094 - accuracy: 0.8661 - val_loss: 0.3427 - val_accuracy: 0.8473\n",
      "Epoch 15/20\n",
      "750/750 [==============================] - 41s 54ms/step - loss: 0.2991 - accuracy: 0.8697 - val_loss: 0.3302 - val_accuracy: 0.8633\n",
      "Epoch 16/20\n",
      "750/750 [==============================] - 41s 54ms/step - loss: 0.2861 - accuracy: 0.8775 - val_loss: 0.3484 - val_accuracy: 0.8520\n",
      "Epoch 17/20\n",
      "750/750 [==============================] - 41s 54ms/step - loss: 0.2698 - accuracy: 0.8857 - val_loss: 0.3395 - val_accuracy: 0.8477\n",
      "Epoch 18/20\n",
      "750/750 [==============================] - 41s 55ms/step - loss: 0.2566 - accuracy: 0.8914 - val_loss: 0.3547 - val_accuracy: 0.8453\n",
      "Epoch 19/20\n",
      "750/750 [==============================] - 42s 55ms/step - loss: 0.2421 - accuracy: 0.8995 - val_loss: 0.3842 - val_accuracy: 0.8580\n",
      "Epoch 20/20\n",
      "750/750 [==============================] - 41s 55ms/step - loss: 0.2322 - accuracy: 0.9035 - val_loss: 0.3965 - val_accuracy: 0.8523\n"
     ]
    },
    {
     "data": {
      "text/plain": [
       "<keras.src.callbacks.History at 0x7fd3d5c2e5c0>"
      ]
     },
     "execution_count": 29,
     "metadata": {},
     "output_type": "execute_result"
    }
   ],
   "source": [
    "rnn.fit(X_train, y_train, epochs=20, validation_data=(X_val, y_val))"
   ]
  },
  {
   "cell_type": "markdown",
   "metadata": {},
   "source": [
    "## Predictions"
   ]
  },
  {
   "cell_type": "code",
   "execution_count": 1,
   "metadata": {},
   "outputs": [
    {
     "ename": "NameError",
     "evalue": "name 'rnn' is not defined",
     "output_type": "error",
     "traceback": [
      "\u001b[0;31m---------------------------------------------------------------------------\u001b[0m",
      "\u001b[0;31mNameError\u001b[0m                                 Traceback (most recent call last)",
      "Cell \u001b[0;32mIn[1], line 1\u001b[0m\n\u001b[0;32m----> 1\u001b[0m predictions \u001b[39m=\u001b[39m rnn\u001b[39m.\u001b[39mpredict(X_test)\n\u001b[1;32m      3\u001b[0m \u001b[39m# Round predictions\u001b[39;00m\n\u001b[1;32m      4\u001b[0m y_pred \u001b[39m=\u001b[39m np\u001b[39m.\u001b[39mzeros(\u001b[39mlen\u001b[39m(predictions))\n",
      "\u001b[0;31mNameError\u001b[0m: name 'rnn' is not defined"
     ]
    }
   ],
   "source": [
    "predictions = rnn.predict(X_test)\n",
    "\n",
    "# Round predictions\n",
    "y_pred = np.zeros(len(predictions))\n",
    "for i in range(len(predictions)):\n",
    "    if predictions[i] > 0.7:\n",
    "        y_pred[i] = 1\n",
    "    else:\n",
    "        y_pred[i] = 0\n",
    "\n",
    "# Print the confusion matrix\n",
    "print(confusion_matrix(y_test, y_pred))\n",
    "\n",
    "# Print the precision and recall, among other metrics\n",
    "print(classification_report(y_test, y_pred, digits=3))\n",
    "\n",
    "# Print the overall accuracy\n",
    "print(\"Accuracy: \", accuracy_score(y_test, y_pred))"
   ]
  }
 ],
 "metadata": {
  "kernelspec": {
   "display_name": "Python 3",
   "language": "python",
   "name": "python3"
  },
  "language_info": {
   "codemirror_mode": {
    "name": "ipython",
    "version": 3
   },
   "file_extension": ".py",
   "mimetype": "text/x-python",
   "name": "python",
   "nbconvert_exporter": "python",
   "pygments_lexer": "ipython3",
   "version": "3.10.6"
  },
  "orig_nbformat": 4
 },
 "nbformat": 4,
 "nbformat_minor": 2
}
