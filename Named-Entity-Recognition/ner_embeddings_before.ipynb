{
 "cells": [
  {
   "cell_type": "code",
   "execution_count": 1,
   "metadata": {},
   "outputs": [
    {
     "name": "stderr",
     "output_type": "stream",
     "text": [
      "2023-09-28 12:20:14.772925: I tensorflow/tsl/cuda/cudart_stub.cc:28] Could not find cuda drivers on your machine, GPU will not be used.\n",
      "2023-09-28 12:20:15.350729: I tensorflow/tsl/cuda/cudart_stub.cc:28] Could not find cuda drivers on your machine, GPU will not be used.\n",
      "2023-09-28 12:20:15.353892: I tensorflow/core/platform/cpu_feature_guard.cc:182] This TensorFlow binary is optimized to use available CPU instructions in performance-critical operations.\n",
      "To enable the following instructions: AVX2 FMA, in other operations, rebuild TensorFlow with the appropriate compiler flags.\n",
      "2023-09-28 12:20:16.758866: W tensorflow/compiler/tf2tensorrt/utils/py_utils.cc:38] TF-TRT Warning: Could not find TensorRT\n"
     ]
    }
   ],
   "source": [
    "# Imports\n",
    "import numpy as np\n",
    "import pandas as pd\n",
    "from keras.preprocessing.text import Tokenizer\n",
    "from keras.preprocessing.sequence import pad_sequences\n",
    "\n",
    "from tensorflow.keras.models import Sequential\n",
    "from tensorflow.keras.layers import Dense, LSTM, Embedding, Bidirectional, TimeDistributed, Masking\n",
    "from tensorflow.keras.optimizers import Adam"
   ]
  },
  {
   "cell_type": "code",
   "execution_count": 2,
   "metadata": {},
   "outputs": [],
   "source": [
    "# Read the dataset as text\n",
    "with open(\"/home/pedranji/Projects/RNNs/Datasets/ner/wikigold/wikigold.conll.txt\", 'r', encoding='utf-8') as file:\n",
    "    dataset_text = file.read()\n",
    "\n",
    "# Pre-process the dataset to remove trailing \"\\n\" characters\n",
    "lines = dataset_text.strip().split('\\n')\n",
    "lines = [line.rstrip('\\n') for line in lines]\n",
    "\n",
    "data = []\n",
    "for line in lines:\n",
    "    row = line.split(' ')\n",
    "    data.append(row)\n",
    "\n",
    "df = pd.DataFrame(data, columns=['Token', 'Entity'])\n"
   ]
  },
  {
   "cell_type": "code",
   "execution_count": 3,
   "metadata": {},
   "outputs": [],
   "source": [
    "# remove nan\n",
    "df = df.dropna().reset_index(drop=True)\n",
    "\n",
    "# Split \"double words\". these words are two words joined by a - character. I want them in separated rows.\n",
    "# Example: \"New-York\" -> [\"New\", \"York\"]\n",
    "df['Token'] = df['Token'].apply(lambda x: x.split('-') if '-' in x else x)\n",
    "\n",
    "# Explode the dataframe to have one word per row. This will separate all elements of rows that have a list.\n",
    "df[\"Token\"] = df[\"Token\"].explode().reset_index(drop=True)\n"
   ]
  },
  {
   "cell_type": "code",
   "execution_count": 4,
   "metadata": {},
   "outputs": [],
   "source": [
    "# drop all \"-DOCSTART-\" tokens\n",
    "df = df[~df['Token'].isin(['-DOCSTART-', 'DOCSTART'])]\n",
    "\n",
    "# Drop all \"\" values\n",
    "df = df[df['Token'] != ''].reset_index(drop=True)\n"
   ]
  },
  {
   "cell_type": "code",
   "execution_count": 5,
   "metadata": {},
   "outputs": [
    {
     "name": "stdout",
     "output_type": "stream",
     "text": [
      "{'I-MISC': 0, 'O': 1, 'I-ORG': 2, 'I-PER': 3, 'I-LOC': 4}\n"
     ]
    }
   ],
   "source": [
    "# Set Labels\n",
    "\n",
    "# map the labels to numbers\n",
    "labels = df[\"Entity\"].unique()\n",
    "label_to_index = {} \n",
    "index_to_label = {}\n",
    "for i, label in enumerate(labels):\n",
    "    label_to_index[label] = i\n",
    "    index_to_label[i] = label\n",
    "\n",
    "df[\"Label\"] = df[\"Entity\"].map(label_to_index)\n",
    "print(label_to_index)"
   ]
  },
  {
   "cell_type": "code",
   "execution_count": 6,
   "metadata": {},
   "outputs": [],
   "source": [
    "# I think this assigns one number to each word.\n",
    "def get_dict_map(data):\n",
    "    tok2idx = {}\n",
    "    idx2tok = {}\n",
    "    \n",
    "    vocab = list(set(data.to_list()))\n",
    "    \n",
    "    idx2tok = {idx:tok for  idx, tok in enumerate(vocab)}\n",
    "    tok2idx = {tok:idx for  idx, tok in enumerate(vocab)}\n",
    "    return tok2idx, idx2tok\n",
    "\n",
    "\n",
    "token2idx, idx2token = get_dict_map(df[\"Token\"])\n",
    "\n",
    "df[\"Embeddings\"] = df[\"Token\"].map(token2idx)"
   ]
  },
  {
   "cell_type": "code",
   "execution_count": 7,
   "metadata": {},
   "outputs": [
    {
     "data": {
      "text/html": [
       "<div>\n",
       "<style scoped>\n",
       "    .dataframe tbody tr th:only-of-type {\n",
       "        vertical-align: middle;\n",
       "    }\n",
       "\n",
       "    .dataframe tbody tr th {\n",
       "        vertical-align: top;\n",
       "    }\n",
       "\n",
       "    .dataframe thead th {\n",
       "        text-align: right;\n",
       "    }\n",
       "</style>\n",
       "<table border=\"1\" class=\"dataframe\">\n",
       "  <thead>\n",
       "    <tr style=\"text-align: right;\">\n",
       "      <th></th>\n",
       "      <th>Token</th>\n",
       "      <th>Entity</th>\n",
       "      <th>Label</th>\n",
       "      <th>Embeddings</th>\n",
       "      <th>Sentence #</th>\n",
       "    </tr>\n",
       "  </thead>\n",
       "  <tbody>\n",
       "    <tr>\n",
       "      <th>0</th>\n",
       "      <td>010</td>\n",
       "      <td>I-MISC</td>\n",
       "      <td>0</td>\n",
       "      <td>5466</td>\n",
       "      <td>1</td>\n",
       "    </tr>\n",
       "    <tr>\n",
       "      <th>1</th>\n",
       "      <td>is</td>\n",
       "      <td>O</td>\n",
       "      <td>1</td>\n",
       "      <td>3870</td>\n",
       "      <td>1</td>\n",
       "    </tr>\n",
       "    <tr>\n",
       "      <th>2</th>\n",
       "      <td>the</td>\n",
       "      <td>O</td>\n",
       "      <td>1</td>\n",
       "      <td>1924</td>\n",
       "      <td>1</td>\n",
       "    </tr>\n",
       "    <tr>\n",
       "      <th>3</th>\n",
       "      <td>tenth</td>\n",
       "      <td>O</td>\n",
       "      <td>1</td>\n",
       "      <td>7369</td>\n",
       "      <td>1</td>\n",
       "    </tr>\n",
       "    <tr>\n",
       "      <th>4</th>\n",
       "      <td>album</td>\n",
       "      <td>O</td>\n",
       "      <td>1</td>\n",
       "      <td>3614</td>\n",
       "      <td>1</td>\n",
       "    </tr>\n",
       "  </tbody>\n",
       "</table>\n",
       "</div>"
      ],
      "text/plain": [
       "   Token  Entity  Label  Embeddings  Sentence #\n",
       "0    010  I-MISC      0        5466           1\n",
       "1     is       O      1        3870           1\n",
       "2    the       O      1        1924           1\n",
       "3  tenth       O      1        7369           1\n",
       "4  album       O      1        3614           1"
      ]
     },
     "execution_count": 7,
     "metadata": {},
     "output_type": "execute_result"
    }
   ],
   "source": [
    "# Create Sentence # Column\n",
    "\n",
    "# This function will count the number of sentences in the dataset.\n",
    "def get_sentence_number(data):\n",
    "    sentence_number = 1\n",
    "    sentence_number_list = []\n",
    "    for word in data:\n",
    "        if word == \".\":\n",
    "            sentence_number += 1\n",
    "        sentence_number_list.append(sentence_number)\n",
    "    return sentence_number_list\n",
    "\n",
    "df[\"Sentence #\"] = get_sentence_number(df[\"Token\"])\n",
    "df.head()"
   ]
  },
  {
   "cell_type": "code",
   "execution_count": 8,
   "metadata": {},
   "outputs": [],
   "source": [
    "# Remove every row that is a \".\" in the token column\n",
    "df = df[df[\"Token\"] != \".\"].reset_index(drop=True)"
   ]
  },
  {
   "cell_type": "code",
   "execution_count": 9,
   "metadata": {},
   "outputs": [
    {
     "data": {
      "text/html": [
       "<div>\n",
       "<style scoped>\n",
       "    .dataframe tbody tr th:only-of-type {\n",
       "        vertical-align: middle;\n",
       "    }\n",
       "\n",
       "    .dataframe tbody tr th {\n",
       "        vertical-align: top;\n",
       "    }\n",
       "\n",
       "    .dataframe thead th {\n",
       "        text-align: right;\n",
       "    }\n",
       "</style>\n",
       "<table border=\"1\" class=\"dataframe\">\n",
       "  <thead>\n",
       "    <tr style=\"text-align: right;\">\n",
       "      <th></th>\n",
       "      <th>Sentence #</th>\n",
       "      <th>Token</th>\n",
       "      <th>Label</th>\n",
       "      <th>Embeddings</th>\n",
       "    </tr>\n",
       "  </thead>\n",
       "  <tbody>\n",
       "    <tr>\n",
       "      <th>0</th>\n",
       "      <td>1</td>\n",
       "      <td>[010, is, the, tenth, album, from, Japanese, P...</td>\n",
       "      <td>[0, 1, 1, 1, 1, 1, 0, 1, 1, 1, 2, 2, 2, 2]</td>\n",
       "      <td>[5466, 3870, 1924, 7369, 3614, 304, 5874, 7322...</td>\n",
       "    </tr>\n",
       "    <tr>\n",
       "      <th>1</th>\n",
       "      <td>2</td>\n",
       "      <td>[This, album, proved, to, be, more, commercial...</td>\n",
       "      <td>[1, 1, 1, 1, 1, 1, 1, 1, 1, 1, 1, 0, 1, 1, 1, ...</td>\n",
       "      <td>[1345, 3614, 4947, 1027, 4268, 4679, 1344, 374...</td>\n",
       "    </tr>\n",
       "    <tr>\n",
       "      <th>2</th>\n",
       "      <td>3</td>\n",
       "      <td>[Founding, member, Kojima, Minoru, played, gui...</td>\n",
       "      <td>[3, 3, 1, 1, 1, 0, 0, 1, 1, 0, 1, 1, 1, 1, 1, ...</td>\n",
       "      <td>[66, 1517, 7745, 2617, 2351, 1050, 4394, 4073,...</td>\n",
       "    </tr>\n",
       "    <tr>\n",
       "      <th>3</th>\n",
       "      <td>4</td>\n",
       "      <td>[XXX, can, of, This, had, a, different, meanin...</td>\n",
       "      <td>[0, 0, 1, 1, 1, 1, 1, 1, 1, 1, 1, 1, 1, 1, 1, ...</td>\n",
       "      <td>[6072, 5908, 6881, 1345, 4530, 1053, 3195, 316...</td>\n",
       "    </tr>\n",
       "    <tr>\n",
       "      <th>4</th>\n",
       "      <td>5</td>\n",
       "      <td>[it, was, later, explained, that, the, song, w...</td>\n",
       "      <td>[1, 1, 1, 1, 1, 1, 1, 0, 1, 1, 1, 1, 1, 1, 1, ...</td>\n",
       "      <td>[1811, 3686, 5977, 4427, 1341, 1924, 7408, 368...</td>\n",
       "    </tr>\n",
       "  </tbody>\n",
       "</table>\n",
       "</div>"
      ],
      "text/plain": [
       "   Sentence #                                              Token  \\\n",
       "0           1  [010, is, the, tenth, album, from, Japanese, P...   \n",
       "1           2  [This, album, proved, to, be, more, commercial...   \n",
       "2           3  [Founding, member, Kojima, Minoru, played, gui...   \n",
       "3           4  [XXX, can, of, This, had, a, different, meanin...   \n",
       "4           5  [it, was, later, explained, that, the, song, w...   \n",
       "\n",
       "                                               Label  \\\n",
       "0         [0, 1, 1, 1, 1, 1, 0, 1, 1, 1, 2, 2, 2, 2]   \n",
       "1  [1, 1, 1, 1, 1, 1, 1, 1, 1, 1, 1, 0, 1, 1, 1, ...   \n",
       "2  [3, 3, 1, 1, 1, 0, 0, 1, 1, 0, 1, 1, 1, 1, 1, ...   \n",
       "3  [0, 0, 1, 1, 1, 1, 1, 1, 1, 1, 1, 1, 1, 1, 1, ...   \n",
       "4  [1, 1, 1, 1, 1, 1, 1, 0, 1, 1, 1, 1, 1, 1, 1, ...   \n",
       "\n",
       "                                          Embeddings  \n",
       "0  [5466, 3870, 1924, 7369, 3614, 304, 5874, 7322...  \n",
       "1  [1345, 3614, 4947, 1027, 4268, 4679, 1344, 374...  \n",
       "2  [66, 1517, 7745, 2617, 2351, 1050, 4394, 4073,...  \n",
       "3  [6072, 5908, 6881, 1345, 4530, 1053, 3195, 316...  \n",
       "4  [1811, 3686, 5977, 4427, 1341, 1924, 7408, 368...  "
      ]
     },
     "execution_count": 9,
     "metadata": {},
     "output_type": "execute_result"
    }
   ],
   "source": [
    "# group by sentence number and join tokens into a sentence\n",
    "df_grouped = df.groupby('Sentence #').agg({'Token': list, 'Label': list, \"Embeddings\": list}).reset_index()\n",
    "\n",
    "df_grouped.head()"
   ]
  },
  {
   "cell_type": "code",
   "execution_count": 10,
   "metadata": {},
   "outputs": [],
   "source": [
    "# Tokenizer\n",
    "tokenizer = Tokenizer()\n",
    "tokenizer.fit_on_texts(df_grouped['Token'].values)\n",
    "word_index = tokenizer.word_index"
   ]
  },
  {
   "cell_type": "code",
   "execution_count": 11,
   "metadata": {},
   "outputs": [
    {
     "name": "stderr",
     "output_type": "stream",
     "text": [
      "Warning : `load_model` does not return WordVectorModel or SupervisedModel any more, but a `FastText` object which is very similar.\n"
     ]
    }
   ],
   "source": [
    "# FastText word embeddings\n",
    "import fasttext\n",
    "import numpy as np\n",
    "\n",
    "# Load the trained FastText model\n",
    "model = fasttext.load_model('FastText.bin')\n",
    "\n",
    "# Create the embedding matrix\n",
    "embedding_matrix = np.zeros((len(token2idx)+1, 100)) # 100 is the dimension of each embedding\n",
    "for word, i in word_index.items():\n",
    "    embedding_matrix[i] = model.get_word_vector(word)\n",
    "\n",
    "df_grouped[\"Embeddings_FastText\"] = df_grouped[\"Embeddings\"].map(lambda x: embedding_matrix[x])\n",
    "\n"
   ]
  },
  {
   "cell_type": "code",
   "execution_count": 12,
   "metadata": {},
   "outputs": [
    {
     "name": "stdout",
     "output_type": "stream",
     "text": [
      "Number of words:  8263\n",
      "Output dimensions:  100\n",
      "Input length:  98\n",
      "Number of classes:  5\n"
     ]
    }
   ],
   "source": [
    "# Useful variables\n",
    "n_words = len(set(df['Token'].explode().to_list()))+1 # why the +1?\n",
    "output_dim = 100\n",
    "lengths = df_grouped['Token'].apply(len)\n",
    "input_length = 98 # arbitrary number, max was 144 but was too much and only one case.\n",
    "n_classes = len(set(df['Label'].to_list()))\n",
    "\n",
    "print(\"Number of words: \", n_words)\n",
    "print(\"Output dimensions: \", output_dim)\n",
    "print(\"Input length: \", input_length)\n",
    "print(\"Number of classes: \", n_classes)\n",
    "\n"
   ]
  },
  {
   "cell_type": "code",
   "execution_count": 13,
   "metadata": {},
   "outputs": [],
   "source": [
    "# PRE PROCESS X\n",
    "X = df_grouped[\"Embeddings_FastText\"].to_list()\n",
    "\n",
    "# manual padding\n",
    "for i in range(len(X)):\n",
    "    while len(X[i]) < input_length: # 98\n",
    "        X[i] = np.append(X[i], np.zeros((1,100)), axis=0)\n",
    "\n",
    "# truncate the results to 98 input length\n",
    "X = pad_sequences(X, maxlen=input_length, padding='post', truncating=\"post\", dtype='float32')"
   ]
  },
  {
   "cell_type": "code",
   "execution_count": 14,
   "metadata": {},
   "outputs": [],
   "source": [
    "# PRE PROCESS Y\n",
    "from tensorflow.keras.utils import to_categorical\n",
    "\n",
    "# One-Hot encode the labels\n",
    "y = df_grouped['Label'].values\n",
    "y = [to_categorical(i, num_classes=n_classes) for i in y]\n",
    "\n",
    "for i in range(len(y)):\n",
    "    while len(y[i]) < input_length: # 98\n",
    "        y[i] = np.append(y[i], [[1, 0, 0, 0, 0]], axis=0)\n",
    "\n",
    "\n",
    "# truncate the results to 98 input length\n",
    "y = pad_sequences(y, maxlen=input_length, padding='post', truncating=\"post\", dtype='float32')"
   ]
  },
  {
   "cell_type": "code",
   "execution_count": 15,
   "metadata": {},
   "outputs": [],
   "source": [
    "# Train Test Split\n",
    "from sklearn.model_selection import train_test_split\n",
    "\n",
    "X_train, X_test, y_train, y_test = train_test_split(X, y, shuffle=True, test_size=0.3)\n",
    "X_val, X_test, y_val, y_test = train_test_split(X_test, y_test, shuffle=True, test_size=0.5)"
   ]
  },
  {
   "cell_type": "code",
   "execution_count": 16,
   "metadata": {},
   "outputs": [
    {
     "name": "stderr",
     "output_type": "stream",
     "text": [
      "2023-09-28 12:20:38.577142: I tensorflow/compiler/xla/stream_executor/cuda/cuda_gpu_executor.cc:995] successful NUMA node read from SysFS had negative value (-1), but there must be at least one NUMA node, so returning NUMA node zero. See more at https://github.com/torvalds/linux/blob/v6.0/Documentation/ABI/testing/sysfs-bus-pci#L344-L355\n",
      "2023-09-28 12:20:38.578496: W tensorflow/core/common_runtime/gpu/gpu_device.cc:1960] Cannot dlopen some GPU libraries. Please make sure the missing libraries mentioned above are installed properly if you would like to use GPU. Follow the guide at https://www.tensorflow.org/install/gpu for how to download and setup the required libraries for your platform.\n",
      "Skipping registering GPU devices...\n"
     ]
    }
   ],
   "source": [
    "# To tensors\n",
    "from tensorflow import convert_to_tensor\n",
    "import tensorflow as tf\n",
    "\n",
    "X_train_tensor = convert_to_tensor(X_train)\n",
    "y_train_tensor = convert_to_tensor(y_train)\n",
    "X_val_tensor = convert_to_tensor(X_val)\n",
    "y_val_tensor = convert_to_tensor(y_val)\n",
    "X_test_tensor = convert_to_tensor(X_test)\n",
    "y_test_tensor = convert_to_tensor(y_test)\n"
   ]
  },
  {
   "cell_type": "code",
   "execution_count": 18,
   "metadata": {},
   "outputs": [],
   "source": [
    "# Get weights for each class\n",
    "from sklearn.utils import class_weight\n",
    "\n",
    "class_weights = class_weight.compute_class_weight(class_weight=\"balanced\", classes=np.unique(df['Label'].to_list()), y=df['Label'].to_list())\n",
    "class_weights_normalized = class_weights / np.sum(class_weights)\n",
    "\n",
    "class_weights_by_hand = [3.6440184, 0.23917975, 3.98257576, 4.82293578, 5.4517037]\n",
    "class_weights_by_hand_normalized = class_weights_by_hand / np.sum(class_weights_by_hand)\n",
    "\n",
    "# define weighted categorical crossentropy\n",
    "from tensorflow.keras import backend as K\n",
    "\n",
    "def weighted_categorical_crossentropy(weights):\n",
    "    weights = K.variable(weights)\n",
    "        \n",
    "    def loss(y_true, y_pred):\n",
    "        # scale predictions so that the class probas of each sample sum to 1\n",
    "        y_pred /= K.sum(y_pred, axis=-1, keepdims=True)\n",
    "        # clip to prevent NaN's and Inf's\n",
    "        y_pred = K.clip(y_pred, K.epsilon(), 1 - K.epsilon())\n",
    "        # calculate loss\n",
    "        loss = y_true * K.log(y_pred) * weights\n",
    "        loss = -K.sum(loss, -1)\n",
    "        return loss\n",
    "    \n",
    "    return loss"
   ]
  },
  {
   "cell_type": "code",
   "execution_count": 43,
   "metadata": {},
   "outputs": [],
   "source": [
    "# define the model\n",
    "rnn = Sequential()\n",
    "\n",
    "rnn.add(Masking(mask_value=0.0, input_shape=(input_length, output_dim), name=\"Input_Layer\"))\n",
    "\n",
    "rnn.add(Bidirectional(LSTM(units=output_dim, return_sequences=True, dropout=0.2, recurrent_dropout=0.5)))\n",
    "\n",
    "rnn.add(LSTM(units=output_dim, return_sequences=True, dropout=0.2, recurrent_dropout=0.5))\n",
    "\n",
    "rnn.add(LSTM(units=round(output_dim/2), return_sequences=True, dropout=0.2, recurrent_dropout=0.5))\n",
    "\n",
    "\n",
    "rnn.add(TimeDistributed(Dense(n_classes, activation=\"softmax\", name=\"Output_Layer\")))\n",
    "\n",
    "rnn.compile(loss=weighted_categorical_crossentropy([1,1,1,1,1]), \n",
    "            optimizer=\"adam\", \n",
    "            metrics= [tf.keras.metrics.CategoricalAccuracy(name=\"categorical_accuracy\"),\n",
    "                      tf.keras.metrics.Precision(name=\"precision\"),\n",
    "                      tf.keras.metrics.Recall(name=\"recall\")])"
   ]
  },
  {
   "cell_type": "code",
   "execution_count": 44,
   "metadata": {},
   "outputs": [
    {
     "name": "stdout",
     "output_type": "stream",
     "text": [
      "Epoch 1/20\n",
      "70/70 [==============================] - 15s 145ms/step - loss: 0.7933 - categorical_accuracy: 0.8368 - precision: 0.8393 - recall: 0.7043 - val_loss: 0.7022 - val_categorical_accuracy: 0.8254 - val_precision: 0.8254 - val_recall: 0.8237\n",
      "Epoch 2/20\n",
      "70/70 [==============================] - 10s 142ms/step - loss: 0.6644 - categorical_accuracy: 0.8407 - precision: 0.8406 - recall: 0.8389 - val_loss: 0.7021 - val_categorical_accuracy: 0.8254 - val_precision: 0.8255 - val_recall: 0.8247\n",
      "Epoch 3/20\n",
      "70/70 [==============================] - 11s 153ms/step - loss: 0.6598 - categorical_accuracy: 0.8407 - precision: 0.8406 - recall: 0.8395 - val_loss: 0.7026 - val_categorical_accuracy: 0.8254 - val_precision: 0.8255 - val_recall: 0.8247\n",
      "Epoch 4/20\n",
      "70/70 [==============================] - 10s 142ms/step - loss: 0.6596 - categorical_accuracy: 0.8407 - precision: 0.8406 - recall: 0.8399 - val_loss: 0.7028 - val_categorical_accuracy: 0.8254 - val_precision: 0.8256 - val_recall: 0.8252\n",
      "Epoch 5/20\n",
      "70/70 [==============================] - 10s 141ms/step - loss: 0.6622 - categorical_accuracy: 0.8407 - precision: 0.8407 - recall: 0.8401 - val_loss: 0.6999 - val_categorical_accuracy: 0.8254 - val_precision: 0.8256 - val_recall: 0.8252\n",
      "Epoch 6/20\n",
      "70/70 [==============================] - 10s 138ms/step - loss: 0.6604 - categorical_accuracy: 0.8407 - precision: 0.8407 - recall: 0.8402 - val_loss: 0.7041 - val_categorical_accuracy: 0.8254 - val_precision: 0.8256 - val_recall: 0.8252\n",
      "Epoch 7/20\n",
      "70/70 [==============================] - 10s 141ms/step - loss: 0.6600 - categorical_accuracy: 0.8407 - precision: 0.8407 - recall: 0.8402 - val_loss: 0.6993 - val_categorical_accuracy: 0.8254 - val_precision: 0.8256 - val_recall: 0.8252\n",
      "Epoch 8/20\n",
      "70/70 [==============================] - 10s 146ms/step - loss: 0.6572 - categorical_accuracy: 0.8407 - precision: 0.8407 - recall: 0.8402 - val_loss: 0.7040 - val_categorical_accuracy: 0.8254 - val_precision: 0.8256 - val_recall: 0.8254\n",
      "Epoch 9/20\n",
      "70/70 [==============================] - 10s 144ms/step - loss: 0.6567 - categorical_accuracy: 0.8407 - precision: 0.8407 - recall: 0.8403 - val_loss: 0.7027 - val_categorical_accuracy: 0.8254 - val_precision: 0.8256 - val_recall: 0.8254\n",
      "Epoch 10/20\n",
      "70/70 [==============================] - 10s 143ms/step - loss: 0.6599 - categorical_accuracy: 0.8407 - precision: 0.8407 - recall: 0.8403 - val_loss: 0.6997 - val_categorical_accuracy: 0.8254 - val_precision: 0.8256 - val_recall: 0.8254\n",
      "Epoch 11/20\n",
      "70/70 [==============================] - 10s 146ms/step - loss: 0.6584 - categorical_accuracy: 0.8407 - precision: 0.8407 - recall: 0.8403 - val_loss: 0.7032 - val_categorical_accuracy: 0.8254 - val_precision: 0.8256 - val_recall: 0.8254\n",
      "Epoch 12/20\n",
      "70/70 [==============================] - 10s 144ms/step - loss: 0.6592 - categorical_accuracy: 0.8407 - precision: 0.8407 - recall: 0.8403 - val_loss: 0.7056 - val_categorical_accuracy: 0.8254 - val_precision: 0.8256 - val_recall: 0.8254\n",
      "Epoch 13/20\n",
      "70/70 [==============================] - 10s 146ms/step - loss: 0.6619 - categorical_accuracy: 0.8407 - precision: 0.8407 - recall: 0.8403 - val_loss: 0.7050 - val_categorical_accuracy: 0.8254 - val_precision: 0.8256 - val_recall: 0.8254\n",
      "Epoch 14/20\n",
      "70/70 [==============================] - 11s 153ms/step - loss: 0.6611 - categorical_accuracy: 0.8407 - precision: 0.8407 - recall: 0.8403 - val_loss: 0.7069 - val_categorical_accuracy: 0.8254 - val_precision: 0.8256 - val_recall: 0.8254\n",
      "Epoch 15/20\n",
      "70/70 [==============================] - 11s 152ms/step - loss: 0.6548 - categorical_accuracy: 0.8407 - precision: 0.8407 - recall: 0.8404 - val_loss: 0.7041 - val_categorical_accuracy: 0.8254 - val_precision: 0.8256 - val_recall: 0.8254\n",
      "Epoch 16/20\n",
      "70/70 [==============================] - 10s 146ms/step - loss: 0.6573 - categorical_accuracy: 0.8407 - precision: 0.8407 - recall: 0.8405 - val_loss: 0.7002 - val_categorical_accuracy: 0.8254 - val_precision: 0.8256 - val_recall: 0.8254\n",
      "Epoch 17/20\n",
      "70/70 [==============================] - 11s 152ms/step - loss: 0.6555 - categorical_accuracy: 0.8407 - precision: 0.8407 - recall: 0.8405 - val_loss: 0.7031 - val_categorical_accuracy: 0.8254 - val_precision: 0.8256 - val_recall: 0.8254\n",
      "Epoch 18/20\n",
      "70/70 [==============================] - 10s 148ms/step - loss: 0.6593 - categorical_accuracy: 0.8407 - precision: 0.8407 - recall: 0.8405 - val_loss: 0.7021 - val_categorical_accuracy: 0.8254 - val_precision: 0.8256 - val_recall: 0.8254\n",
      "Epoch 19/20\n",
      "70/70 [==============================] - 10s 144ms/step - loss: 0.6582 - categorical_accuracy: 0.8407 - precision: 0.8407 - recall: 0.8405 - val_loss: 0.7018 - val_categorical_accuracy: 0.8254 - val_precision: 0.8256 - val_recall: 0.8254\n",
      "Epoch 20/20\n",
      "70/70 [==============================] - 10s 144ms/step - loss: 0.6627 - categorical_accuracy: 0.8407 - precision: 0.8407 - recall: 0.8405 - val_loss: 0.7004 - val_categorical_accuracy: 0.8254 - val_precision: 0.8256 - val_recall: 0.8254\n"
     ]
    }
   ],
   "source": [
    "H = rnn.fit(X_train_tensor, y_train_tensor, validation_data=(X_val_tensor, y_val_tensor), epochs=20, batch_size=16, verbose=1)"
   ]
  },
  {
   "cell_type": "markdown",
   "metadata": {},
   "source": []
  },
  {
   "cell_type": "code",
   "execution_count": 40,
   "metadata": {},
   "outputs": [
    {
     "name": "stdout",
     "output_type": "stream",
     "text": [
      "8/8 [==============================] - 1s 41ms/step\n"
     ]
    }
   ],
   "source": [
    "# predictions\n",
    "\n",
    "y_pred = rnn.predict(X_test_tensor)\n",
    "y_pred = np.argmax(y_pred, axis=-1)"
   ]
  },
  {
   "cell_type": "code",
   "execution_count": 33,
   "metadata": {},
   "outputs": [
    {
     "data": {
      "text/plain": [
       "array([1, 4])"
      ]
     },
     "execution_count": 33,
     "metadata": {},
     "output_type": "execute_result"
    }
   ],
   "source": [
    "np.unique(y_pred)"
   ]
  },
  {
   "cell_type": "code",
   "execution_count": 34,
   "metadata": {},
   "outputs": [
    {
     "data": {
      "image/png": "[encoded data removed]",
      "text/plain": [
       "<Figure size 640x480 with 1 Axes>"
      ]
     },
     "metadata": {},
     "output_type": "display_data"
    }
   ],
   "source": [
    "# show graphs for loss\n",
    "import matplotlib.pyplot as plt\n",
    "\n",
    "plt.plot(H.history['loss'])\n",
    "plt.plot(H.history['val_loss'])\n",
    "plt.title('model loss')\n",
    "plt.ylabel('loss')\n",
    "plt.xlabel('epoch')\n",
    "plt.legend(['train', 'validation'])\n",
    "plt.show()"
   ]
  },
  {
   "cell_type": "code",
   "execution_count": null,
   "metadata": {},
   "outputs": [],
   "source": []
  }
 ],
 "metadata": {
  "kernelspec": {
   "display_name": "Python 3",
   "language": "python",
   "name": "python3"
  },
  "language_info": {
   "codemirror_mode": {
    "name": "ipython",
    "version": 3
   },
   "file_extension": ".py",
   "mimetype": "text/x-python",
   "name": "python",
   "nbconvert_exporter": "python",
   "pygments_lexer": "ipython3",
   "version": "3.10.12"
  },
  "orig_nbformat": 4
 },
 "nbformat": 4,
 "nbformat_minor": 2
}
