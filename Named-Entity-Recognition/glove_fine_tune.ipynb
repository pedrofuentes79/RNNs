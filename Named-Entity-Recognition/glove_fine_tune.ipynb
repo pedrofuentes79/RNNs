{
 "cells": [
  {
   "cell_type": "code",
   "execution_count": 1,
   "metadata": {},
   "outputs": [
    {
     "name": "stderr",
     "output_type": "stream",
     "text": [
      "Read 0M words\n",
      "Number of words:  1085\n",
      "Number of labels: 0\n",
      "Progress: 100.0% words/sec/thread:  537232 lr:  0.000000 avg.loss:  3.932331 ETA:   0h 0m 0s\n"
     ]
    }
   ],
   "source": [
    "import fasttext\n",
    "\n",
    "# Train FastText embeddings\n",
    "model = fasttext.train_unsupervised('/home/pedranji/Projects/RNNs/Datasets/ner/wikigold/wikigold.conll.txt', model='skipgram')\n",
    "\n",
    "# Save the trained embeddings\n",
    "model.save_model('FastText.bin')"
   ]
  }
 ],
 "metadata": {
  "kernelspec": {
   "display_name": "Python 3",
   "language": "python",
   "name": "python3"
  },
  "language_info": {
   "codemirror_mode": {
    "name": "ipython",
    "version": 3
   },
   "file_extension": ".py",
   "mimetype": "text/x-python",
   "name": "python",
   "nbconvert_exporter": "python",
   "pygments_lexer": "ipython3",
   "version": "3.10.12"
  },
  "orig_nbformat": 4
 },
 "nbformat": 4,
 "nbformat_minor": 2
}
