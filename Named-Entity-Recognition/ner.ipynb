{
  "nbformat": 4,
  "nbformat_minor": 0,
  "metadata": {
    "colab": {
      "provenance": [],
      "authorship_tag": "ABX9TyPYf+Xb7ij9K/9FlzInXLeW",
      "include_colab_link": true
    },
    "kernelspec": {
      "name": "python3",
      "display_name": "Python 3"
    },
    "language_info": {
      "name": "python"
    }
  },
  "cells": [
    {
      "cell_type": "markdown",
      "metadata": {
        "id": "view-in-github",
        "colab_type": "text"
      },
      "source": [
        "<a href=\"https://colab.research.google.com/github/pedrofuentes79/RNNs/blob/master/Named-Entity-Recognition/ner.ipynb\" target=\"_parent\"><img src=\"https://colab.research.google.com/assets/colab-badge.svg\" alt=\"Open In Colab\"/></a>"
      ]
    },
    {
      "cell_type": "code",
      "execution_count": 24,
      "metadata": {
        "id": "IJzfoBdGRBLH"
      },
      "outputs": [],
      "source": [
        "import pandas as pd\n",
        "import numpy as np\n",
        "import matplotlib.pyplot as plt\n",
        "from google.colab import drive\n",
        "from keras.preprocessing.text import Tokenizer\n",
        "from keras.preprocessing.sequence import pad_sequences\n",
        "\n"
      ]
    },
    {
      "cell_type": "code",
      "source": [
        "drive.mount(\"/content/drive\")\n",
        "\n",
        "\n",
        "# Read the dataset as text\n",
        "with open(\"/content/drive/MyDrive/ColabProjects/ner/wikigold/wikigold.conll.txt\", 'r', encoding='utf-8') as file:\n",
        "    dataset_text = file.read()\n",
        "\n",
        "# Pre-process the dataset to remove trailing \"\\n\" characters\n",
        "lines = dataset_text.strip().split('\\n')\n",
        "lines = [line.rstrip('\\n') for line in lines]\n",
        "\n",
        "data = []\n",
        "for line in lines:\n",
        "    row = line.split(' ')\n",
        "    data.append(row)\n",
        "\n",
        "df = pd.DataFrame(data, columns=['Token', 'Entity'])\n"
      ],
      "metadata": {
        "colab": {
          "base_uri": "https://localhost:8080/"
        },
        "id": "CLBNO_yYT3UA",
        "outputId": "a5bc167b-5027-4262-bf77-84bbd403c9c6"
      },
      "execution_count": 14,
      "outputs": [
        {
          "output_type": "stream",
          "name": "stdout",
          "text": [
            "Drive already mounted at /content/drive; to attempt to forcibly remount, call drive.mount(\"/content/drive\", force_remount=True).\n"
          ]
        }
      ]
    },
    {
      "cell_type": "code",
      "source": [
        "# Remove NA values\n",
        "df = df.dropna()\n",
        "df = df.reset_index(drop=True)"
      ],
      "metadata": {
        "id": "istfSjGhdEQV"
      },
      "execution_count": 15,
      "outputs": []
    },
    {
      "cell_type": "code",
      "source": [
        "# check the label types\n",
        "df[\"Entity\"].value_counts()\n",
        "\n",
        "# map the labels to numbers\n",
        "labels = df[\"Entity\"].unique()\n",
        "label_to_index = {}\n",
        "index_to_label = {}\n",
        "for i, label in enumerate(labels):\n",
        "    label_to_index[label] = i\n",
        "    index_to_label[i] = label\n",
        "\n",
        "df[\"Label\"] = df[\"Entity\"].map(label_to_index)"
      ],
      "metadata": {
        "colab": {
          "base_uri": "https://localhost:8080/"
        },
        "id": "bjfzKvpBdc8j",
        "outputId": "987e4e5e-f009-4912-80f1-04c14c5ebe27"
      },
      "execution_count": 16,
      "outputs": [
        {
          "output_type": "stream",
          "name": "stdout",
          "text": [
            "O         32721\n",
            "I-ORG      1958\n",
            "I-PER      1634\n",
            "I-LOC      1447\n",
            "I-MISC     1392\n",
            "Name: Entity, dtype: int64\n"
          ]
        }
      ]
    },
    {
      "cell_type": "code",
      "source": [
        "# find all \"-DOCSTART-\" tokens\n",
        "docstart_positions = df[df['Token'] == '-DOCSTART-'].index.tolist()\n",
        "print(docstart_positions)"
      ],
      "metadata": {
        "id": "Z5wWn1tPjdgC"
      },
      "execution_count": 17,
      "outputs": []
    },
    {
      "cell_type": "code",
      "source": [
        "# create a new column listing the sentence number for each token\n",
        "sentence_number = 0\n",
        "\n",
        "for index, row in df.iterrows():\n",
        "    if index in docstart_positions:\n",
        "        sentence_number += 1\n",
        "    df.loc[index, 'Sentence #'] = sentence_number"
      ],
      "metadata": {
        "id": "J7vXSJsVkkK9"
      },
      "execution_count": 18,
      "outputs": []
    },
    {
      "cell_type": "code",
      "source": [
        "# drop all \"-DOCSTART-\" tokens\n",
        "df = df[df['Token'] != '-DOCSTART-'].reset_index(drop=True)"
      ],
      "metadata": {
        "id": "HkIfFGBACNAM"
      },
      "execution_count": null,
      "outputs": []
    },
    {
      "cell_type": "code",
      "source": [
        "# group by sentence number and join tokens into a sentence\n",
        "df_grouped = df.groupby('Sentence #').agg({'Token': list, 'Label': list}).reset_index()\n",
        "\n",
        "df_grouped\n"
      ],
      "metadata": {
        "id": "-Y09292-kkHj"
      },
      "execution_count": 21,
      "outputs": []
    },
    {
      "cell_type": "code",
      "source": [
        "### TOKENIZE DATA ###\n",
        "# create a new column which will have all the words from a sentence. (in this case, they will be word embeddings for each word)"
      ],
      "metadata": {
        "id": "41FUKWPQkj4Y"
      },
      "execution_count": null,
      "outputs": []
    },
    {
      "cell_type": "code",
      "source": [],
      "metadata": {
        "id": "vzfEP83Vlt_8"
      },
      "execution_count": null,
      "outputs": []
    }
  ]
}