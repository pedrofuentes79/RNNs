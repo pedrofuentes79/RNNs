{
 "cells": [
  {
   "cell_type": "markdown",
   "metadata": {},
   "source": [
    "# predictNextApp\n",
    "\n",
    "This model predicts 8 apps that the user will use next based on the user's previous app usage history."
   ]
  },
  {
   "cell_type": "markdown",
   "metadata": {},
   "source": [
    "# Imports"
   ]
  },
  {
   "cell_type": "code",
   "execution_count": 1,
   "metadata": {},
   "outputs": [
    {
     "name": "stderr",
     "output_type": "stream",
     "text": [
      "2023-07-15 15:15:27.554846: I tensorflow/core/platform/cpu_feature_guard.cc:182] This TensorFlow binary is optimized to use available CPU instructions in performance-critical operations.\n",
      "To enable the following instructions: AVX2 FMA, in other operations, rebuild TensorFlow with the appropriate compiler flags.\n",
      "2023-07-15 15:15:28.292009: W tensorflow/compiler/tf2tensorrt/utils/py_utils.cc:38] TF-TRT Warning: Could not find TensorRT\n"
     ]
    }
   ],
   "source": [
    "import pandas as pd\n",
    "import numpy as np\n",
    "from sklearn.preprocessing import LabelEncoder\n",
    "from tensorflow.keras.models import Sequential\n",
    "from tensorflow.keras.layers import Embedding, LSTM, Dense, GRU, Dropout\n",
    "from tensorflow.keras.preprocessing.sequence import pad_sequences\n",
    "from sklearn.model_selection import train_test_split\n",
    "\n",
    "from sklearn.metrics import accuracy_score, precision_score, recall_score, f1_score, classification_report\n",
    "from sklearn.preprocessing import MinMaxScaler\n",
    "import matplotlib.pyplot as plt\n",
    "\n",
    "\n"
   ]
  },
  {
   "cell_type": "code",
   "execution_count": 39,
   "metadata": {},
   "outputs": [
    {
     "name": "stdout",
     "output_type": "stream",
     "text": [
      "Number of entries:  79339\n"
     ]
    }
   ],
   "source": [
    "original_df = pd.read_csv('Datasets/archive/train.csv')\n",
    "print(\"Number of entries: \", len(original_df))\n",
    "original_df.head()\n",
    "\n",
    "df = original_df.copy()"
   ]
  },
  {
   "cell_type": "markdown",
   "metadata": {},
   "source": [
    "# DATA PROCESSING\n",
    "### Nans\n",
    "To spare me any headaches later, I am going to remove all nans"
   ]
  },
  {
   "cell_type": "code",
   "execution_count": 3,
   "metadata": {},
   "outputs": [],
   "source": [
    "df = df[df[\"Duration\"].notna()]"
   ]
  },
  {
   "cell_type": "markdown",
   "metadata": {},
   "source": [
    "### Time-related columns\n",
    "Transforms the Duration column to a integer (seconds)"
   ]
  },
  {
   "cell_type": "code",
   "execution_count": 4,
   "metadata": {},
   "outputs": [
    {
     "name": "stderr",
     "output_type": "stream",
     "text": [
      "/tmp/ipykernel_16304/398935141.py:4: UserWarning: Could not infer format, so each element will be parsed individually, falling back to `dateutil`. To ensure parsing is consistent and as-expected, please specify a format.\n",
      "  df['Duration'] = pd.to_datetime(original_df['Duration'])\n",
      "/tmp/ipykernel_16304/398935141.py:16: UserWarning: Could not infer format, so each element will be parsed individually, falling back to `dateutil`. To ensure parsing is consistent and as-expected, please specify a format.\n",
      "  df[\"Time\"] = pd.to_datetime(original_df[\"Time\"])\n"
     ]
    }
   ],
   "source": [
    "df['Duration'] = pd.to_datetime(original_df['Duration'])\n",
    "# Replaces datetime for seconds\n",
    "df[\"Duration\"] = df[\"Duration\"].dt.hour * 60 + df[\"Duration\"].dt.minute * 60 + df[\"Duration\"].dt.second\n",
    "# Converts to int\n",
    "df[\"Duration\"] = df[\"Duration\"].astype(int)\n",
    "\n",
    "# Feature engineering for \"Date\" and \"Time\" columns\n",
    "\n",
    "df[\"Date\"] = pd.to_datetime(original_df[\"Date\"])\n",
    "df[\"Time\"] = pd.to_datetime(original_df[\"Time\"])\n",
    "\n",
    "# Extract hour, minute, weekday and month from these columns and put it in new ones\n",
    "df[\"Weekday\"] = df[\"Date\"].dt.day_of_week.astype(int)\n",
    "df[\"Month\"] = df[\"Date\"].dt.month.astype(int)\n",
    "df[\"Hour\"] = df[\"Time\"].dt.hour.astype(int)\n",
    "df[\"Minute\"] = df[\"Time\"].dt.minute.astype(int)"
   ]
  },
  {
   "cell_type": "markdown",
   "metadata": {},
   "source": [
    "### App names\n",
    "Get unique app values and remove non-apps from the df"
   ]
  },
  {
   "cell_type": "code",
   "execution_count": 40,
   "metadata": {},
   "outputs": [],
   "source": [
    "unique_apps = df['App'].unique()\n",
    "\n",
    "to_be_deleted = [\"Screen off (locked)\", \"Screen on (unlocked)\", \"Screen off\", \n",
    "                                      \"Screen on (locked)\", \"Device boot\", \"Device shutdown\", \n",
    "                                      'Activity history, January 2, 2019 - December 27, 2018',\n",
    "                                      'Created by App Usage (PRO) on Wednesday, January 2, 2019, 20:21',\n",
    "                                      \"App Usage\"]\n",
    "# Remove the apps that are not useful for the model\n",
    "unique_apps = np.delete(unique_apps, np.where(np.isin(unique_apps, to_be_deleted)))\n",
    "\n",
    "# Now, I want to remove the apps that are not in the useful apps list (unique_apps)\n",
    "df = df[df[\"App\"].isin(unique_apps)]\n",
    "\n",
    "# Perform label encoding on the 'App name' column\n",
    "label_encoder = LabelEncoder()\n",
    "df[\"App index\"]=label_encoder.fit_transform(df[\"App\"])"
   ]
  },
  {
   "cell_type": "markdown",
   "metadata": {},
   "source": [
    "# Data Split\n",
    "\n",
    "Used an 80/20 split for the train and test subsets."
   ]
  },
  {
   "cell_type": "markdown",
   "metadata": {},
   "source": [
    "Scaled the X values with MinMaxScaler from scikit"
   ]
  },
  {
   "cell_type": "code",
   "execution_count": 6,
   "metadata": {},
   "outputs": [
    {
     "name": "stdout",
     "output_type": "stream",
     "text": [
      "(24382, 3)\n",
      "(6096, 3)\n"
     ]
    }
   ],
   "source": [
    "X = df[[\"Weekday\", \"Hour\", \"Minute\"]]\n",
    "Y = df[\"App index\"]\n",
    "\n",
    "X_train, X_test, Y_train, Y_test = train_test_split(X, Y, test_size=0.2, random_state=42)\n",
    "\n",
    "# Scaling training and test set\n",
    "scaler = MinMaxScaler()\n",
    "X_train_scaled = scaler.fit_transform(X_train)\n",
    "X_test_scaled = scaler.fit_transform(X_test)\n",
    "\n",
    "print(X_train_scaled.shape)\n",
    "print(X_test_scaled.shape)"
   ]
  },
  {
   "cell_type": "markdown",
   "metadata": {},
   "source": [
    "Since all inputs have 3 features, it's not necessary to pad them. It is important to check that the shape is consistent because RNNs require fixed-length inputs."
   ]
  },
  {
   "cell_type": "markdown",
   "metadata": {},
   "source": [
    "### Reshaping\n",
    "The data has to be in this format to be fed into the LSTM: \n",
    "$ (\\#samples, \\#timesteps, \\#features) $.\n",
    "In this case, number of features is 3 (Weekday, Hour, Minute).\n",
    "I am going to use 1 timestep, so the LSTM will look at the data one by one"
   ]
  },
  {
   "cell_type": "code",
   "execution_count": 7,
   "metadata": {},
   "outputs": [
    {
     "name": "stdout",
     "output_type": "stream",
     "text": [
      "Number of samples:  24382\n",
      "Number of timesteps:  1\n",
      "Number of features:  3\n",
      "Number of apps:  144\n"
     ]
    }
   ],
   "source": [
    "X_train_scaled_reshaped = X_train_scaled.reshape(X_train_scaled.shape[0], 1, X_train_scaled.shape[1])\n",
    "X_test_scaled_reshaped = X_test_scaled.reshape(X_test_scaled.shape[0], 1, X_test_scaled.shape[1])\n",
    "\n",
    "number_of_samples = X_train_scaled_reshaped.shape[0]\n",
    "number_of_timesteps = X_train_scaled_reshaped.shape[1]\n",
    "number_of_features = X_train_scaled_reshaped.shape[2]\n",
    "\n",
    "print(\"Number of samples: \", number_of_samples)\n",
    "print(\"Number of timesteps: \", number_of_timesteps)\n",
    "print(\"Number of features: \", number_of_features)\n",
    "print(\"Number of apps: \", len(unique_apps))\n"
   ]
  },
  {
   "cell_type": "markdown",
   "metadata": {},
   "source": [
    "# Model\n"
   ]
  },
  {
   "cell_type": "code",
   "execution_count": 41,
   "metadata": {},
   "outputs": [
    {
     "name": "stdout",
     "output_type": "stream",
     "text": [
      "Epoch 1/20\n",
      "762/762 [==============================] - 13s 10ms/step - loss: 3.1347 - accuracy: 0.1785\n",
      "Epoch 2/20\n",
      "762/762 [==============================] - 8s 10ms/step - loss: 3.0442 - accuracy: 0.1796\n",
      "Epoch 3/20\n",
      "762/762 [==============================] - 8s 10ms/step - loss: 3.0409 - accuracy: 0.1782\n",
      "Epoch 4/20\n",
      "762/762 [==============================] - 8s 10ms/step - loss: 3.0395 - accuracy: 0.1794\n",
      "Epoch 5/20\n",
      "762/762 [==============================] - 8s 10ms/step - loss: 3.0348 - accuracy: 0.1841\n",
      "Epoch 6/20\n",
      "762/762 [==============================] - 8s 10ms/step - loss: 3.0184 - accuracy: 0.1908\n",
      "Epoch 7/20\n",
      "762/762 [==============================] - 8s 10ms/step - loss: 2.9914 - accuracy: 0.2024\n",
      "Epoch 8/20\n",
      "762/762 [==============================] - 8s 11ms/step - loss: 2.9762 - accuracy: 0.2079\n",
      "Epoch 9/20\n",
      "762/762 [==============================] - 8s 10ms/step - loss: 2.9631 - accuracy: 0.2108\n",
      "Epoch 10/20\n",
      "762/762 [==============================] - 8s 10ms/step - loss: 2.9469 - accuracy: 0.2149\n",
      "Epoch 11/20\n",
      "762/762 [==============================] - 8s 10ms/step - loss: 2.9325 - accuracy: 0.2142\n",
      "Epoch 12/20\n",
      "762/762 [==============================] - 8s 10ms/step - loss: 2.9262 - accuracy: 0.2159\n",
      "Epoch 13/20\n",
      "762/762 [==============================] - 8s 10ms/step - loss: 2.9164 - accuracy: 0.2204\n",
      "Epoch 14/20\n",
      "762/762 [==============================] - 8s 10ms/step - loss: 2.9051 - accuracy: 0.2223\n",
      "Epoch 15/20\n",
      "762/762 [==============================] - 8s 10ms/step - loss: 2.8989 - accuracy: 0.2226\n",
      "Epoch 16/20\n",
      "762/762 [==============================] - 8s 10ms/step - loss: 2.8978 - accuracy: 0.2202\n",
      "Epoch 17/20\n",
      "762/762 [==============================] - 8s 10ms/step - loss: 2.8904 - accuracy: 0.2232\n",
      "Epoch 18/20\n",
      "762/762 [==============================] - 8s 10ms/step - loss: 2.8830 - accuracy: 0.2210\n",
      "Epoch 19/20\n",
      "762/762 [==============================] - 8s 10ms/step - loss: 2.8813 - accuracy: 0.2248\n",
      "Epoch 20/20\n",
      "762/762 [==============================] - 8s 10ms/step - loss: 2.8751 - accuracy: 0.2252\n"
     ]
    },
    {
     "data": {
      "text/plain": [
       "<keras.src.callbacks.History at 0x7fab34e65750>"
      ]
     },
     "execution_count": 41,
     "metadata": {},
     "output_type": "execute_result"
    }
   ],
   "source": [
    "# BUILDING THE MODEL\n",
    "rnn = Sequential()\n",
    "\n",
    "rnn.add(LSTM(units=200,return_sequences=True, input_shape=(number_of_timesteps, number_of_features)))\n",
    "rnn.add(Dropout(rate=0.3))\n",
    "\n",
    "rnn.add(LSTM(units=200,return_sequences=True))\n",
    "rnn.add(Dropout(rate=0.3))\n",
    "\n",
    "rnn.add(LSTM(units=200,return_sequences=True))\n",
    "rnn.add(Dropout(rate=0.3))\n",
    "\n",
    "rnn.add(LSTM(units=200, return_sequences=False)) \n",
    "rnn.add(Dropout(rate=0.3))\n",
    "\n",
    "rnn.add(Dense(units=len(label_encoder.classes_),activation='softmax'))\n",
    "\n",
    "rnn.compile(optimizer='adam', loss=\"sparse_categorical_crossentropy\", metrics=['accuracy'])\n",
    "rnn.fit(X_train_scaled_reshaped, Y_train, epochs=20)\n",
    "\n"
   ]
  },
  {
   "cell_type": "markdown",
   "metadata": {},
   "source": [
    "# Predictions\n",
    "The predictions are in the form of probabilites. Copying iOS' app prediction interface, the \n",
    "$\\text{y\\_pred}$ will take the 8 apps with the highest probabilities.\n",
    "\n",
    "To evaluate the model I will use accuracy, but I will need to define it properly.\n",
    "The accuracy formula is represented as: $$ accuracy = \\frac{\\#hits}{\\#Samples} $$.\n"
   ]
  },
  {
   "cell_type": "code",
   "execution_count": 42,
   "metadata": {},
   "outputs": [
    {
     "name": "stdout",
     "output_type": "stream",
     "text": [
      "191/191 [==============================] - 2s 5ms/step\n",
      "[[109 120 143 ...  62  90 134]\n",
      " [ 19 143 140 ...  90  62 134]\n",
      " [ 50 120  19 ...  90  62 134]\n",
      " ...\n",
      " [ 77 109  46 ... 134  62  90]\n",
      " [140 109  46 ... 134  62  90]\n",
      " [ 14  77  50 ...  62 134  90]]\n",
      "Accuracy:  0.7257217847769029\n"
     ]
    }
   ],
   "source": [
    "# MAKE PREDICTIONS\n",
    "\n",
    "predictions = rnn.predict(X_test_scaled_reshaped)\n",
    "y_pred = np.argsort(predictions)[:,-8:]\n",
    "print(y_pred)\n",
    "\n",
    "hits = 0\n",
    "for i in range(len(y_pred)):\n",
    "    if Y_test.iloc[i] in y_pred[i]:\n",
    "        hits += 1\n",
    "\n",
    "accuracy = hits/len(y_pred)\n",
    "print(\"Accuracy: \", accuracy)\n",
    "\n"
   ]
  },
  {
   "cell_type": "code",
   "execution_count": 43,
   "metadata": {},
   "outputs": [
    {
     "name": "stdout",
     "output_type": "stream",
     "text": [
      "['Phone' 'WhatsApp' 'Instagram' 'Chrome' 'YouTube' 'Goodreads'\n",
      " 'Package installer' 'Settings' 'Messages' 'System UI' 'Gallery'\n",
      " 'Opera Mini' 'Amazon Shopping' 'Camera' 'Call of Duty' 'Amazon Kindle'\n",
      " 'Swiggy' 'Google Play Store' 'Clock' 'redBus']\n",
      "Accuracy:  0.6819225721784777\n"
     ]
    }
   ],
   "source": [
    "# What are the most frequent app indexes\n",
    "counts = np.bincount(Y)\n",
    "# What app names are those app indexes?\n",
    "print(label_encoder.inverse_transform(np.argsort(-counts)[:20]))\n",
    "\n",
    "\n",
    "# What is the accuracy if I always predict the most frequent values?\n",
    "hits = 0\n",
    "for i in range(len(Y_test)):\n",
    "    if Y_test.iloc[i] in np.argsort(-counts)[:8]:\n",
    "        hits += 1\n",
    "\n",
    "accuracy = hits/len(Y_test)\n",
    "\n",
    "print(\"Accuracy: \", accuracy)"
   ]
  },
  {
   "cell_type": "markdown",
   "metadata": {},
   "source": [
    "So, the difference between only predicting the most frequent values and is about 0.04, not very significant.\n",
    "I will study the distribution of the dataset to see how infrequent are the apps that are not on the frequent list"
   ]
  },
  {
   "cell_type": "code",
   "execution_count": 44,
   "metadata": {},
   "outputs": [
    {
     "name": "stdout",
     "output_type": "stream",
     "text": [
      "[ 90 134  62  19 140  50  89 109  77 120  46  86   5  15  14   4 119  54\n",
      "  20 143]\n"
     ]
    },
    {
     "data": {
      "image/png": "[encoded data removed]",
      "text/plain": [
       "<Figure size 2000x1000 with 1 Axes>"
      ]
     },
     "metadata": {},
     "output_type": "display_data"
    }
   ],
   "source": [
    "most_frequent_apps = np.argsort(-counts)[:20]\n",
    "print(most_frequent_apps)\n",
    "\n",
    "# Graph the distribution of the dataset with the app names as labels\n",
    "# Only include the 20 most frequent apps\n",
    "\n",
    "plt.figure(figsize=(20,10))\n",
    "plt.bar(label_encoder.inverse_transform(most_frequent_apps), counts[most_frequent_apps])\n",
    "plt.xticks(rotation=90)\n",
    "plt.ylabel(\"Number of times used\")\n",
    "plt.show()\n",
    "\n"
   ]
  },
  {
   "cell_type": "markdown",
   "metadata": {},
   "source": [
    "# Conclusions"
   ]
  },
  {
   "cell_type": "markdown",
   "metadata": {},
   "source": [
    "So, if we take the 20 most frequent apps, we can see that, except for the big three, the rest of them are more or less the same in terms of aparitions. This indicates a really skewed dataset. However, this does not mean that the data does not reflect real life. If Twitter and maybe TikTok were included in the apps on that phone, they would also take a big part of the aparitions, and the rest of the apps wouldn't be used as much."
   ]
  }
 ],
 "metadata": {
  "kernelspec": {
   "display_name": "base",
   "language": "python",
   "name": "python3"
  },
  "language_info": {
   "codemirror_mode": {
    "name": "ipython",
    "version": 3
   },
   "file_extension": ".py",
   "mimetype": "text/x-python",
   "name": "python",
   "nbconvert_exporter": "python",
   "pygments_lexer": "ipython3",
   "version": "3.10.6"
  },
  "orig_nbformat": 4
 },
 "nbformat": 4,
 "nbformat_minor": 2
}
